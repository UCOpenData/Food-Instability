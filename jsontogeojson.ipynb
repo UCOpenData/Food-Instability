{
 "cells": [
  {
   "cell_type": "code",
   "execution_count": 1,
   "metadata": {},
   "outputs": [],
   "source": [
    "import json"
   ]
  },
  {
   "cell_type": "code",
   "execution_count": 2,
   "metadata": {},
   "outputs": [],
   "source": [
    "fh = open(\"grocery_stores_chicago.json\")\n",
    "a = json.load(fh)"
   ]
  },
  {
   "cell_type": "code",
   "execution_count": null,
   "metadata": {},
   "outputs": [],
   "source": []
  },
  {
   "cell_type": "code",
   "execution_count": 3,
   "metadata": {},
   "outputs": [],
   "source": [
    "newjson = []\n",
    "\n",
    "for loc in a:\n",
    "    item = dict()\n",
    "    item[\"type\"] = \"Feature\"\n",
    "    item[\"geometry\"] = {\"type\": \"Point\", \"coordinates\": [loc[\"latitude\"], loc[\"longitude\"]]}\n",
    "    item[\"properties\"] = {\"name\": loc[\"name\"]}\n",
    "    newjson.append(item)\n",
    "\n",
    "\n",
    "newjson = json.dumps(newjson)"
   ]
  },
  {
   "cell_type": "code",
   "execution_count": 4,
   "metadata": {},
   "outputs": [],
   "source": [
    "with open(\"sample.json\", \"w\") as outfile:\n",
    "    outfile.write(newjson)"
   ]
  }
 ],
 "metadata": {
  "kernelspec": {
   "display_name": "venv",
   "language": "python",
   "name": "python3"
  },
  "language_info": {
   "codemirror_mode": {
    "name": "ipython",
    "version": 3
   },
   "file_extension": ".py",
   "mimetype": "text/x-python",
   "name": "python",
   "nbconvert_exporter": "python",
   "pygments_lexer": "ipython3",
   "version": "3.11.5"
  }
 },
 "nbformat": 4,
 "nbformat_minor": 2
}
